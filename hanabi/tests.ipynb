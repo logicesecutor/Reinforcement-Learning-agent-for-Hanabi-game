{
 "cells": [
  {
   "cell_type": "code",
   "execution_count": 10,
   "metadata": {},
   "outputs": [
    {
     "data": {
      "text/plain": [
       "[{'color': None, 'value': None, 'position': None},\n",
       " {'color': None, 'value': None, 'position': None},\n",
       " {'color': None, 'value': None, 'position': None},\n",
       " {'color': None, 'value': None, 'position': None}]"
      ]
     },
     "execution_count": 10,
     "metadata": {},
     "output_type": "execute_result"
    }
   ],
   "source": [
    "my_cards_info = []\n",
    "num_card = 2\n",
    "\n",
    "my_cards_info = [{\"color\": None, \"value\": None, \"position\":None } for _ in range(5 if num_card>=4 else 4)]\n",
    "        \n",
    "my_cards_info"
   ]
  },
  {
   "cell_type": "code",
   "execution_count": 9,
   "metadata": {},
   "outputs": [
    {
     "name": "stdout",
     "output_type": "stream",
     "text": [
      "(1, 2, 3, 4, 5, 6, 7, 8, 9)\n",
      "568694502952057910\n"
     ]
    }
   ],
   "source": [
    "a = [1,2,3]\n",
    "b = [4,5,6]\n",
    "c = [7,8,9]\n",
    " \n",
    "print(tuple(a+b+c))\n",
    "print(hash(tuple(a+b+c)))\n"
   ]
  },
  {
   "cell_type": "code",
   "execution_count": 15,
   "metadata": {},
   "outputs": [
    {
     "data": {
      "text/plain": [
       "[0, 0, 0, 0, 0]"
      ]
     },
     "execution_count": 15,
     "metadata": {},
     "output_type": "execute_result"
    }
   ],
   "source": [
    "[0 for _ in range(5)]"
   ]
  },
  {
   "cell_type": "code",
   "execution_count": 7,
   "metadata": {},
   "outputs": [
    {
     "name": "stdout",
     "output_type": "stream",
     "text": [
      "[{'halp': 1, 'ciao': 2, 'arr': 5}, {'halp': 1, 'ciao': 2, 'arr': 7}]\n"
     ]
    }
   ],
   "source": [
    "import random\n",
    "\n",
    "\n",
    "dizio = [{\n",
    "    \"halp\":1,\n",
    "    \"ciao\":2,\n",
    "    \"arr\":7\n",
    "},\n",
    "{\n",
    "    \"halp\":1,\n",
    "    \"ciao\":2,\n",
    "    \"arr\":5\n",
    "}]\n",
    "\n",
    "print(sorted(dizio,key=lambda x:x[\"arr\"]))"
   ]
  },
  {
   "cell_type": "code",
   "execution_count": 4,
   "metadata": {},
   "outputs": [
    {
     "name": "stdout",
     "output_type": "stream",
     "text": [
      "True\n"
     ]
    }
   ],
   "source": [
    "ciao = tuple()\n",
    "\n",
    "\n",
    "\n",
    "print(not ciao)"
   ]
  },
  {
   "cell_type": "code",
   "execution_count": 1,
   "metadata": {},
   "outputs": [
    {
     "name": "stdout",
     "output_type": "stream",
     "text": [
      "<class 'list'>\n"
     ]
    }
   ],
   "source": [
    "class ServerPlayerConnectionOk:\n",
    "    '''\n",
    "    Server successfully received the connection request from the player.\n",
    "    You need to tell the server that you are ready.\n",
    "    '''\n",
    "    def __init__(self, playerName) -> None:\n",
    "        action = \"Connection ok\"\n",
    "        self.message = \"Player \" + str(playerName) + \" connected succesfully!\"\n",
    "\n",
    "\n",
    "lista = [ServerPlayerConnectionOk(\"gionni\"),ServerPlayerConnectionOk(\"sandro\"),ServerPlayerConnectionOk(\"tere\")]\n",
    "\n",
    "print(type(lista))"
   ]
  },
  {
   "cell_type": "code",
   "execution_count": 4,
   "metadata": {},
   "outputs": [],
   "source": [
    "import json\n",
    "with open(\"./models/\"+\"Agent_1\"+\"/q_table.json\",\"w\") as f:\n",
    "            json.dump({\"Agent_1\":2}, f)"
   ]
  }
 ],
 "metadata": {
  "interpreter": {
   "hash": "3abdf8a3dddd285c338b6d1496febfa4bb702d77676330b0328ab9b8330dca7a"
  },
  "kernelspec": {
   "display_name": "Python 3.7.10 64-bit ('ML_course': conda)",
   "language": "python",
   "name": "python3"
  },
  "language_info": {
   "codemirror_mode": {
    "name": "ipython",
    "version": 3
   },
   "file_extension": ".py",
   "mimetype": "text/x-python",
   "name": "python",
   "nbconvert_exporter": "python",
   "pygments_lexer": "ipython3",
   "version": "3.7.10"
  },
  "orig_nbformat": 4
 },
 "nbformat": 4,
 "nbformat_minor": 2
}
