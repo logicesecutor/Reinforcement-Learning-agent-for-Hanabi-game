{
 "cells": [
  {
   "cell_type": "code",
   "execution_count": 10,
   "metadata": {},
   "outputs": [
    {
     "data": {
      "text/plain": [
       "[{'color': None, 'value': None, 'position': None},\n",
       " {'color': None, 'value': None, 'position': None},\n",
       " {'color': None, 'value': None, 'position': None},\n",
       " {'color': None, 'value': None, 'position': None}]"
      ]
     },
     "execution_count": 10,
     "metadata": {},
     "output_type": "execute_result"
    }
   ],
   "source": [
    "my_cards_info = []\n",
    "num_card = 2\n",
    "\n",
    "my_cards_info = [{\"color\": None, \"value\": None, \"position\":None } for _ in range(5 if num_card>=4 else 4)]\n",
    "        \n",
    "my_cards_info"
   ]
  },
  {
   "cell_type": "code",
   "execution_count": 2,
   "metadata": {},
   "outputs": [
    {
     "name": "stdout",
     "output_type": "stream",
     "text": [
      "[{'halp': 1, 'ciao': 2, 'arr': 7}, {'halp': 1, 'ciao': 2, 'arr': 5}]\n"
     ]
    }
   ],
   "source": [
    "import random\n",
    "\n",
    "\n",
    "dizio = [{\n",
    "    \"halp\":1,\n",
    "    \"ciao\":2,\n",
    "    \"arr\":7\n",
    "},\n",
    "{\n",
    "    \"halp\":1,\n",
    "    \"ciao\":2,\n",
    "    \"arr\":5\n",
    "}]\n",
    "\n",
    "print(sorted(dizio,key=lambda x:x[\"arr\"],reverse=True))"
   ]
  },
  {
   "cell_type": "code",
   "execution_count": 8,
   "metadata": {},
   "outputs": [
    {
     "data": {
      "text/plain": [
       "False"
      ]
     },
     "execution_count": 8,
     "metadata": {},
     "output_type": "execute_result"
    }
   ],
   "source": [
    "a= []\n",
    "\n",
    "b=[]\n",
    "\n",
    "True if {} else False\n"
   ]
  },
  {
   "cell_type": "code",
   "execution_count": 1,
   "metadata": {},
   "outputs": [
    {
     "name": "stdout",
     "output_type": "stream",
     "text": [
      "<class 'list'>\n"
     ]
    }
   ],
   "source": [
    "class ServerPlayerConnectionOk:\n",
    "    '''\n",
    "    Server successfully received the connection request from the player.\n",
    "    You need to tell the server that you are ready.\n",
    "    '''\n",
    "    def __init__(self, playerName) -> None:\n",
    "        action = \"Connection ok\"\n",
    "        self.message = \"Player \" + str(playerName) + \" connected succesfully!\"\n",
    "\n",
    "\n",
    "lista = [ServerPlayerConnectionOk(\"gionni\"),ServerPlayerConnectionOk(\"sandro\"),ServerPlayerConnectionOk(\"tere\")]\n",
    "\n",
    "print(type(lista))"
   ]
  },
  {
   "cell_type": "markdown",
   "metadata": {},
   "source": [
    "## Plot the graph of State"
   ]
  },
  {
   "cell_type": "code",
   "execution_count": 2,
   "metadata": {},
   "outputs": [
    {
     "name": "stdout",
     "output_type": "stream",
     "text": [
      "True\n",
      "3221\n"
     ]
    },
    {
     "name": "stderr",
     "output_type": "stream",
     "text": [
      "\n",
      "Bad key \"text.kerning_factor\" on line 4 in\n",
      "C:\\Users\\chris\\miniconda3\\envs\\ML_course\\lib\\site-packages\\matplotlib\\mpl-data\\stylelib\\_classic_test_patch.mplstyle.\n",
      "You probably need to get an updated matplotlibrc file from\n",
      "http://github.com/matplotlib/matplotlib/blob/master/matplotlibrc.template\n",
      "or from the matplotlib source distribution\n"
     ]
    }
   ],
   "source": [
    "import networkx as nx\n",
    "import pickle\n",
    "import matplotlib\n",
    "\n",
    "# grp = nx.DiGraph()\n",
    "# grp.add_edge(0,2)\n",
    "# grp.add_edge(1,4)\n",
    "# grp.add_edge(2,4)\n",
    "# grp.add_edge(1,3)\n",
    "# grp.add_edge(2,5)\n",
    "# grp.add_edge(0,1)\n",
    "\n",
    "# grp.nodes\n",
    "directory_name = \"H:/Universita/Computationa Intelligence/Exam project/CI_exam_project_hanabi/hanabi/models/Agent_1/\"\n",
    "\n",
    "with open(directory_name + \"state_graph.pkl\", \"rb\") as f:\n",
    "    grp = pickle.load( f)\n",
    "\n",
    "print(nx.is_directed_acyclic_graph(grp))\n",
    "print(len(grp.nodes))\n",
    "\n",
    "nx.draw(grp, node_size=2)\n",
    "#matplotlib.pyplot.show()\n"
   ]
  },
  {
   "cell_type": "code",
   "execution_count": 2,
   "metadata": {},
   "outputs": [
    {
     "name": "stdout",
     "output_type": "stream",
     "text": [
      "True\n"
     ]
    }
   ],
   "source": [
    "import networkx as nx\n",
    "import pickle\n",
    "import matplotlib\n",
    "\n",
    "grp = nx.DiGraph()\n",
    "grp.add_edge(0,2)\n",
    "grp.add_edge(1,4)\n",
    "grp.add_edge(2,4)\n",
    "grp.add_edge(1,3)\n",
    "grp.add_edge(2,5)\n",
    "grp.add_edge(0,1)\n",
    "\n",
    "print(nx.is_directed_acyclic_graph(grp))\n",
    "\n",
    "# print([edge[1] for edge in grp.out_edges(2)])\n",
    "# #print(nx.degree(grp))\n",
    "# 10 in grp.nodes\n",
    "\n",
    "grp.remove_edge(0,1)"
   ]
  },
  {
   "cell_type": "code",
   "execution_count": 1,
   "metadata": {},
   "outputs": [
    {
     "name": "stdout",
     "output_type": "stream",
     "text": [
      "\n"
     ]
    }
   ],
   "source": [
    "import pickle\n",
    "\n",
    "directory_name = \"H:/Universita/Computationa Intelligence/Exam project/CI_exam_project_hanabi/hanabi/models/Agent_1/\"\n",
    "\n",
    "with open(directory_name + \"q_table.pkl\", \"rb\") as f:\n",
    "    q_table = pickle.load( f)\n",
    "\n",
    "with open(directory_name + \"reward_table.pkl\",\"rb\") as f:\n",
    "    reward_table = pickle.load( f )\n",
    "    \n",
    "with open(directory_name + \"state_graph.pkl\",\"rb\") as f:\n",
    "    state_graph = pickle.load( f )\n",
    "    \n",
    "print()"
   ]
  },
  {
   "cell_type": "code",
   "execution_count": 2,
   "metadata": {},
   "outputs": [
    {
     "data": {
      "text/plain": [
       "0.47848000000000007"
      ]
     },
     "execution_count": 2,
     "metadata": {},
     "output_type": "execute_result"
    }
   ],
   "source": [
    "dictio = {\"stato_1\":{(2, 1): 0.4, (0, 0): 1.4720000000000002, (0, 2): -1.2410240000000001},\n",
    "\"stato_2\":{(1, 1): 0.43600000000000005, (2, 1): 0.47848000000000007},\n",
    "\"stato_3\" :{():0.0},\n",
    "\"stato_4\" : {}\n",
    "}\n",
    "max(dictio[\"stato_2\"], key=dictio[\"stato_2\"].get, default=())\n",
    "max(dictio[\"stato_2\"].values(), default=())\n"
   ]
  }
 ],
 "metadata": {
  "interpreter": {
   "hash": "3abdf8a3dddd285c338b6d1496febfa4bb702d77676330b0328ab9b8330dca7a"
  },
  "kernelspec": {
   "display_name": "Python 3.7.10 64-bit ('ML_course': conda)",
   "language": "python",
   "name": "python3"
  },
  "language_info": {
   "codemirror_mode": {
    "name": "ipython",
    "version": 3
   },
   "file_extension": ".py",
   "mimetype": "text/x-python",
   "name": "python",
   "nbconvert_exporter": "python",
   "pygments_lexer": "ipython3",
   "version": "3.7.10"
  },
  "orig_nbformat": 4
 },
 "nbformat": 4,
 "nbformat_minor": 2
}
