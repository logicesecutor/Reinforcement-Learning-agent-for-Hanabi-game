{
 "cells": [
  {
   "cell_type": "code",
   "execution_count": 9,
   "metadata": {},
   "outputs": [
    {
     "data": {
      "text/plain": [
       "[{'color': None, 'value': None, 'position': None},\n",
       " {'color': None, 'value': None, 'position': None},\n",
       " {'color': None, 'value': None, 'position': None},\n",
       " {'color': None, 'value': None, 'position': None}]"
      ]
     },
     "execution_count": 9,
     "metadata": {},
     "output_type": "execute_result"
    }
   ],
   "source": [
    "my_cards_info = []\n",
    "num_card = 2\n",
    "\n",
    "my_cards_info = [{\"color\": None, \"value\": None, \"position\":None } for _ in range(5 if num_card>=4 else 4)]\n",
    "        \n",
    "my_cards_info"
   ]
  },
  {
   "cell_type": "code",
   "execution_count": null,
   "metadata": {},
   "outputs": [],
   "source": [
    "playerCards = sorted({elem.value:elem.color for elem in player.hand}.items(), key=lambda x: x[0])"
   ]
  },
  {
   "cell_type": "code",
   "execution_count": 1,
   "metadata": {},
   "outputs": [
    {
     "name": "stdout",
     "output_type": "stream",
     "text": [
      "0.1\n"
     ]
    }
   ],
   "source": [
    "from typing import *\n",
    "\n",
    "def foo(p: str):\n",
    "    print(p)\n",
    "\n",
    "foo(.10)\n"
   ]
  },
  {
   "cell_type": "code",
   "execution_count": 1,
   "metadata": {},
   "outputs": [],
   "source": [
    "import pandas as pd\n",
    "\n",
    "read_file = pd.read_csv (r\"C:\\\\Users\\\\chris\\\\Desktop\\\\words_alpha.txt\")\n",
    "read_file.to_csv (r'C:\\\\Users\\\\chris\\\\Desktop\\\\words_alpha.txt.csv', index=None)\n"
   ]
  }
 ],
 "metadata": {
  "interpreter": {
   "hash": "3abdf8a3dddd285c338b6d1496febfa4bb702d77676330b0328ab9b8330dca7a"
  },
  "kernelspec": {
   "display_name": "Python 3.7.10 64-bit ('ML_course': conda)",
   "language": "python",
   "name": "python3"
  },
  "language_info": {
   "codemirror_mode": {
    "name": "ipython",
    "version": 3
   },
   "file_extension": ".py",
   "mimetype": "text/x-python",
   "name": "python",
   "nbconvert_exporter": "python",
   "pygments_lexer": "ipython3",
   "version": "3.7.10"
  },
  "orig_nbformat": 4
 },
 "nbformat": 4,
 "nbformat_minor": 2
}
