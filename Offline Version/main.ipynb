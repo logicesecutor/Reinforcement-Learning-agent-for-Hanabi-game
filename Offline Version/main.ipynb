{
 "cells": [
  {
   "cell_type": "code",
   "execution_count": null,
   "metadata": {},
   "outputs": [],
   "source": [
    "from GameManger import GameManager\n",
    "\n",
    "game = GameManager()\n",
    "\n",
    "game.start(n_player=2)\n",
    "\n",
    "while not game.end():\n",
    "    game.printStatus()\n",
    "    game.manageInput()"
   ]
  }
 ],
 "metadata": {
  "language_info": {
   "name": "python"
  }
 },
 "nbformat": 4,
 "nbformat_minor": 2
}
